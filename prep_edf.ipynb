{
 "cells": [
  {
   "cell_type": "code",
   "execution_count": 1,
   "metadata": {},
   "outputs": [],
   "source": [
    "import dill\n",
    "import mne\n",
    "import numpy as np"
   ]
  },
  {
   "cell_type": "code",
   "execution_count": 20,
   "metadata": {},
   "outputs": [
    {
     "name": "stdout",
     "output_type": "stream",
     "text": [
      "Reading forward solution from /home/hareen/Projects/bunny/leadfield/27_20k_fwd.fif...\n",
      "    Reading a source space...\n",
      "    [done]\n",
      "    Reading a source space...\n",
      "    [done]\n",
      "    2 source spaces read\n",
      "    Desired named matrix (kind = 3523) not available\n",
      "    Read EEG forward solution (20484 sources, 27 channels, free orientations)\n",
      "    Source spaces transformed to the forward solution coordinate frame\n"
     ]
    }
   ],
   "source": [
    "n_channels = 27\n",
    "\n",
    "fwd = mne.read_forward_solution(f'leadfield/{n_channels}_20k_fwd.fif')"
   ]
  },
  {
   "cell_type": "code",
   "execution_count": 16,
   "metadata": {},
   "outputs": [
    {
     "name": "stderr",
     "output_type": "stream",
     "text": [
      "/tmp/ipykernel_3289/2398652722.py:1: RuntimeWarning: Unknown types found, setting as type EEG:\n",
      "temp: ['Temp']\n",
      "  data = mne.io.read_raw_eeglab('oddball/sub-001/eeg/sub-001_task-P300_run-1_eeg.set')\n",
      "/tmp/ipykernel_3289/2398652722.py:1: RuntimeWarning: Data will be preloaded. preload=False or a string preload is not supported when the data is stored in the .set file\n",
      "  data = mne.io.read_raw_eeglab('oddball/sub-001/eeg/sub-001_task-P300_run-1_eeg.set')\n",
      "/tmp/ipykernel_3289/2398652722.py:1: RuntimeWarning: Not setting positions of 14 gsr/misc/resp channels found in montage:\n",
      "['EXG1', 'EXG2', 'EXG3', 'EXG4', 'EXG5', 'EXG6', 'EXG7', 'EXG8', 'GSR1', 'GSR2', 'Erg1', 'Erg2', 'Resp', 'Plet']\n",
      "Consider setting the channel types to be of EEG/sEEG/ECoG/DBS/fNIRS using inst.set_channel_types before calling inst.set_montage, or omit these channels when creating your montage.\n",
      "  data = mne.io.read_raw_eeglab('oddball/sub-001/eeg/sub-001_task-P300_run-1_eeg.set')\n",
      "/tmp/ipykernel_3289/2398652722.py:7: RuntimeWarning: The locations of multiple reference channels are ignored.\n",
      "  data = mne.add_reference_channels(data, ch)\n",
      "/tmp/ipykernel_3289/2398652722.py:7: RuntimeWarning: The locations of multiple reference channels are ignored.\n",
      "  data = mne.add_reference_channels(data, ch)\n"
     ]
    }
   ],
   "source": [
    "data = mne.io.read_raw_eeglab('oddball/sub-001/eeg/sub-001_task-P300_run-1_eeg.set')\n",
    "remapping = {k: k.upper().replace(\"Z\", \"z\").replace(\"FP\", \"Fp\") for k in data.ch_names}\n",
    "data = data.rename_channels(remapping)\n",
    "\n",
    "for ch in fwd.ch_names:\n",
    "    if not ch in data.ch_names:\n",
    "        data = mne.add_reference_channels(data, ch)\n",
    "\n",
    "data = data.pick(fwd.ch_names)"
   ]
  },
  {
   "cell_type": "code",
   "execution_count": 21,
   "metadata": {},
   "outputs": [
    {
     "name": "stdout",
     "output_type": "stream",
     "text": [
      "Extracting EDF parameters from /home/hareen/Projects/bunny/epilepsy_27/epilepsy_27.edf...\n",
      "EDF file detected\n",
      "Setting channel info structure...\n",
      "Creating raw.info structure...\n",
      "Reading 0 ... 921599  =      0.000 ...  3599.996 secs...\n"
     ]
    }
   ],
   "source": [
    "data = mne.io.read_raw_edf('epilepsy_27/epilepsy_27.edf', preload=True)\n",
    "remapping = {k: k.split(' ')[1].upper().replace(\"Z\", \"z\").replace(\"FP\", \"Fp\") for k in data.ch_names}\n",
    "data = data.rename_channels(remapping)\n",
    "\n",
    "for ch in fwd.ch_names:\n",
    "    if not ch in data.ch_names:\n",
    "        data = mne.add_reference_channels(data, ch)\n",
    "\n",
    "data = data.pick(fwd.ch_names)"
   ]
  },
  {
   "cell_type": "code",
   "execution_count": 42,
   "metadata": {},
   "outputs": [],
   "source": [
    "eeg = data.get_data()[:, :10000]\n",
    "eeg -= np.mean(eeg, axis=0, keepdims=True)\n",
    "eeg -= np.mean(eeg, axis=1, keepdims=True)\n",
    "eeg /= np.abs(eeg).max()\n",
    "\n",
    "while eeg.shape[1] < 500:\n",
    "    eeg = np.concatenate((eeg, eeg), axis=1)"
   ]
  },
  {
   "cell_type": "code",
   "execution_count": 43,
   "metadata": {},
   "outputs": [],
   "source": [
    "with open('source/eeg/27_spike_sample2.pkl', 'wb') as f:\n",
    "    dill.dump(eeg, f)"
   ]
  },
  {
   "cell_type": "code",
   "execution_count": null,
   "metadata": {},
   "outputs": [],
   "source": []
  }
 ],
 "metadata": {
  "kernelspec": {
   "display_name": "Python 3",
   "language": "python",
   "name": "python3"
  },
  "language_info": {
   "codemirror_mode": {
    "name": "ipython",
    "version": 3
   },
   "file_extension": ".py",
   "mimetype": "text/x-python",
   "name": "python",
   "nbconvert_exporter": "python",
   "pygments_lexer": "ipython3",
   "version": "3.10.14"
  }
 },
 "nbformat": 4,
 "nbformat_minor": 2
}
