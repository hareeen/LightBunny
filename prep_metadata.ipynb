{
 "cells": [
  {
   "cell_type": "code",
   "execution_count": 2,
   "metadata": {},
   "outputs": [],
   "source": [
    "import dill\n",
    "import numpy as np\n",
    "import random\n",
    "from scipy.io import loadmat\n",
    "from pathlib import Path\n",
    "from tqdm.auto import tqdm"
   ]
  },
  {
   "cell_type": "code",
   "execution_count": 3,
   "metadata": {},
   "outputs": [],
   "source": [
    "input_path = Path('source') / 'val_sample_source1.mat'\n",
    "output_path = Path('source') / 'metadata_val_240417.pkl'"
   ]
  },
  {
   "cell_type": "code",
   "execution_count": 4,
   "metadata": {},
   "outputs": [],
   "source": [
    "spike_path = Path('source') / 'nmm_spikes'\n",
    "viable_data_count = np.array([len([*(spike_path / f'a{i}').iterdir()]) for i in range(994)])"
   ]
  },
  {
   "cell_type": "code",
   "execution_count": 5,
   "metadata": {},
   "outputs": [
    {
     "data": {
      "text/plain": [
       "15399"
      ]
     },
     "execution_count": 5,
     "metadata": {},
     "output_type": "execute_result"
    }
   ],
   "source": [
    "viable_data_count.sum()"
   ]
  },
  {
   "cell_type": "code",
   "execution_count": 6,
   "metadata": {},
   "outputs": [
    {
     "data": {
      "text/plain": [
       "(11928, 2)"
      ]
     },
     "execution_count": 6,
     "metadata": {},
     "output_type": "execute_result"
    }
   ],
   "source": [
    "raw = loadmat(input_path)\n",
    "\n",
    "patch_regions = raw['selected_region']\n",
    "weight_decay = raw['mag_change']\n",
    "\n",
    "dataset_len = patch_regions.shape[0]\n",
    "source_count = patch_regions.shape[1]\n",
    "dataset_len, source_count"
   ]
  },
  {
   "cell_type": "code",
   "execution_count": 8,
   "metadata": {},
   "outputs": [
    {
     "data": {
      "application/vnd.jupyter.widget-view+json": {
       "model_id": "6904583a72ef4f76812e9549b57dc456",
       "version_major": 2,
       "version_minor": 0
      },
      "text/plain": [
       "  0%|          | 0/11928 [00:00<?, ?it/s]"
      ]
     },
     "metadata": {},
     "output_type": "display_data"
    }
   ],
   "source": [
    "dataset = {\n",
    "    'source_count': source_count,\n",
    "    'nmm_metadata': [],\n",
    "}\n",
    "\n",
    "for data_idx in tqdm(range(dataset_len)):\n",
    "    validity_flag = True\n",
    "\n",
    "    current_data = []\n",
    "    for source_idx in range(source_count):\n",
    "        trim_nan_filter = (patch_regions[data_idx][source_idx] <= 994)\n",
    "        source_region = patch_regions[data_idx][source_idx][trim_nan_filter][0]\n",
    "\n",
    "        if viable_data_count[source_region] == 0:\n",
    "            validity_flag = False\n",
    "            break\n",
    "\n",
    "        sampled_simulation_idx = random.randint(1, viable_data_count[source_region])\n",
    "\n",
    "        current_data.append({\n",
    "            'patch_regions': patch_regions[data_idx][source_idx][trim_nan_filter],\n",
    "            'weight_decay': weight_decay[data_idx][source_idx][trim_nan_filter],\n",
    "            'source_region': int(source_region),\n",
    "            'sampled_simulation_idx': int(sampled_simulation_idx),\n",
    "        })\n",
    "\n",
    "        su += patch_regions[data_idx][source_idx][trim_nan_filter].shape[0]\n",
    "    \n",
    "    if validity_flag:\n",
    "        assert len(current_data) == source_count\n",
    "        dataset['nmm_metadata'].append(current_data)\n",
    "\n",
    "dataset['dataset_len'] = len(dataset['nmm_metadata'])"
   ]
  },
  {
   "cell_type": "code",
   "execution_count": 9,
   "metadata": {},
   "outputs": [],
   "source": [
    "with open(output_path, 'wb') as f:\n",
    "    dill.dump(dataset, f)"
   ]
  }
 ],
 "metadata": {
  "kernelspec": {
   "display_name": "Python 3",
   "language": "python",
   "name": "python3"
  },
  "language_info": {
   "codemirror_mode": {
    "name": "ipython",
    "version": 3
   },
   "file_extension": ".py",
   "mimetype": "text/x-python",
   "name": "python",
   "nbconvert_exporter": "python",
   "pygments_lexer": "ipython3",
   "version": "3.10.14"
  }
 },
 "nbformat": 4,
 "nbformat_minor": 2
}
